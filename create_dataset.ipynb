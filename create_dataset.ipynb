{
 "cells": [
  {
   "cell_type": "code",
   "execution_count": 1,
   "id": "37dea470-9585-4f1d-850b-ff20d60c61d5",
   "metadata": {},
   "outputs": [],
   "source": [
    "import pandas as pd\n",
    "import dask.dataframe as dd\n",
    "import numpy as np\n",
    "from pathlib import Path"
   ]
  },
  {
   "cell_type": "code",
   "execution_count": 2,
   "id": "8ee28ff6-bae9-4629-94cd-f86e639091df",
   "metadata": {},
   "outputs": [],
   "source": [
    "data_path = Path(\"data\")\n",
    "hist_path = data_path / \"processed_history.parquet\"\n",
    "msg_path = data_path / \"msgs_w_issuer.parquet\""
   ]
  },
  {
   "cell_type": "code",
   "execution_count": 3,
   "id": "3388b523-d7e1-4039-bf3b-d77a64519cb3",
   "metadata": {},
   "outputs": [],
   "source": [
    "msg_df = pd.read_parquet(msg_path)"
   ]
  },
  {
   "cell_type": "code",
   "execution_count": 17,
   "id": "b70b3887-7c9d-4ec0-932b-33976683ff30",
   "metadata": {},
   "outputs": [
    {
     "data": {
      "text/plain": [
       "array(['EQNR', 'PAR', 'VIZ', ..., 'MAUD', 'POINT', 'HRMKO'], dtype=object)"
      ]
     },
     "execution_count": 17,
     "metadata": {},
     "output_type": "execute_result"
    }
   ],
   "source": [
    "msg_df[\"symbol\"].unique()"
   ]
  },
  {
   "cell_type": "markdown",
   "id": "f262576e-a718-4c6d-a54e-c719a35bea06",
   "metadata": {},
   "source": [
    "### Remove issuers with no known stock symbol\n",
    "Won't have the stock history for it"
   ]
  },
  {
   "cell_type": "code",
   "execution_count": 4,
   "id": "504f8d02-d3c1-46d7-bfe2-21f91a948475",
   "metadata": {},
   "outputs": [],
   "source": [
    "hist_df = pd.read_parquet(hist_path)"
   ]
  },
  {
   "cell_type": "code",
   "execution_count": 5,
   "id": "ebc528d9-7bc8-497c-b2ff-ad91f2f22462",
   "metadata": {},
   "outputs": [
    {
     "data": {
      "text/plain": [
       "(315,)"
      ]
     },
     "execution_count": 5,
     "metadata": {},
     "output_type": "execute_result"
    }
   ],
   "source": [
    "known_syms = hist_df.index.get_level_values(0).unique()\n",
    "known_syms.shape"
   ]
  },
  {
   "cell_type": "code",
   "execution_count": 6,
   "id": "629b330d-00d9-4d04-955a-9ea98942265e",
   "metadata": {},
   "outputs": [
    {
     "data": {
      "text/plain": [
       "1279"
      ]
     },
     "execution_count": 6,
     "metadata": {},
     "output_type": "execute_result"
    }
   ],
   "source": [
    "msg_df[\"symbol\"].nunique()"
   ]
  },
  {
   "cell_type": "code",
   "execution_count": 7,
   "id": "78fde825-131f-4a55-804d-397a70c41361",
   "metadata": {},
   "outputs": [],
   "source": [
    "msg_known_sym = msg_df[msg_df[\"symbol\"].isin(known_syms)]"
   ]
  },
  {
   "cell_type": "code",
   "execution_count": 41,
   "id": "115685a7-50a6-4eb1-a541-c9ee4ef879fb",
   "metadata": {},
   "outputs": [
    {
     "data": {
      "text/plain": [
       "count    193984.000000\n",
       "mean          0.938056\n",
       "std           0.119647\n",
       "min           0.099609\n",
       "25%           0.914800\n",
       "50%           0.998200\n",
       "75%           1.000000\n",
       "max           1.000000\n",
       "Name: weighted_label_conf, dtype: float64"
      ]
     },
     "execution_count": 41,
     "metadata": {},
     "output_type": "execute_result"
    }
   ],
   "source": [
    "msg_known_sym[\"weighted_label_conf\"].describe()#.quantile(np.arange(0.1, 0.5, 0.05))"
   ]
  },
  {
   "cell_type": "code",
   "execution_count": 38,
   "id": "d33f5a70-3e5b-4b69-bb74-3b3fb6997baa",
   "metadata": {},
   "outputs": [
    {
     "data": {
      "text/plain": [
       "weighted_label\n",
       "__label__en     109689\n",
       "__label__no      81556\n",
       "__label__sv       1047\n",
       "__label__da        934\n",
       "__label__nn        660\n",
       "__label__de         46\n",
       "__label__it         30\n",
       "__label__fr          8\n",
       "__label__nl          3\n",
       "__label__pl          2\n",
       "__label__ca          2\n",
       "__label__hu          2\n",
       "__label__nds         1\n",
       "__label__fi          1\n",
       "__label__es          1\n",
       "__label__vi          1\n",
       "__label__zh          1\n",
       "dtype: int64"
      ]
     },
     "execution_count": 38,
     "metadata": {},
     "output_type": "execute_result"
    }
   ],
   "source": [
    "msg_known_sym.value_counts(\"weighted_label\")"
   ]
  },
  {
   "cell_type": "code",
   "execution_count": 8,
   "id": "5dffd2cc-d462-4add-96c4-d3906c867118",
   "metadata": {},
   "outputs": [
    {
     "name": "stdout",
     "output_type": "stream",
     "text": [
      "CPU times: user 4.79 s, sys: 463 ms, total: 5.25 s\n",
      "Wall time: 5.29 s\n"
     ]
    }
   ],
   "source": [
    "%%time\n",
    "closing_hours = pd.to_datetime([\"16:30:00\"]).time[0]\n",
    "is_next_day = (msg_known_sym[\"publishedTime_dt\"].dt.time > closing_hours)#.astype(int)\n",
    "msg_w_next_day = msg_known_sym.assign(is_next_day=is_next_day, \n",
    "                                      next_day=(msg_known_sym[\"publishedTime_dt\"]\n",
    "                                                .transform(lambda dt_idx: dt_idx.date + pd.offsets.BDay() * (dt_idx.time > closing_hours).astype(int))\n",
    "                                               ))"
   ]
  },
  {
   "cell_type": "markdown",
   "id": "783381c3-3bfa-4219-979b-947c0440ea1d",
   "metadata": {},
   "source": [
    "### Merge sources"
   ]
  },
  {
   "cell_type": "code",
   "execution_count": 9,
   "id": "2b3c45ea-4e8b-49d0-80d8-fceb16e2214b",
   "metadata": {},
   "outputs": [],
   "source": [
    "msg_w_hist = msg_w_next_day.merge(hist_df, left_on=[\"symbol\", \"next_day\"], right_index=True)"
   ]
  },
  {
   "cell_type": "code",
   "execution_count": 132,
   "id": "ed9e98d9-ba7f-4b13-8923-04a1e5f574bc",
   "metadata": {},
   "outputs": [
    {
     "data": {
      "text/plain": [
       "274"
      ]
     },
     "execution_count": 132,
     "metadata": {},
     "output_type": "execute_result"
    }
   ],
   "source": [
    "msg_w_hist[\"symbol\"].nunique()"
   ]
  },
  {
   "cell_type": "markdown",
   "id": "d890dedb-b686-4cf3-bd50-eed833af28c7",
   "metadata": {},
   "source": [
    "### Calculate ground truth"
   ]
  },
  {
   "cell_type": "code",
   "execution_count": 179,
   "id": "afec1dd9-4b7e-4de1-ba5c-84eaa8355dc7",
   "metadata": {},
   "outputs": [],
   "source": [
    "categories_df = pd.read_csv(data_path / \"news_categories.csv\")"
   ]
  },
  {
   "cell_type": "code",
   "execution_count": 187,
   "id": "e51a16a4-3a0f-47eb-b050-9ca459b5c086",
   "metadata": {},
   "outputs": [],
   "source": [
    "cat_no = categories_df[[\"osl_id\", \"category_no\"]].to_dict()\n",
    "cat_en =  categories_df.drop(columns=\"category_no\").to_dict()"
   ]
  },
  {
   "cell_type": "code",
   "execution_count": 194,
   "id": "5d1ab999-4c41-450e-9a1d-a8fe7d896edc",
   "metadata": {},
   "outputs": [],
   "source": [
    "catid2cat_en = {v: cat_en[\"category_en\"][k] for idx, (k, v) in enumerate(cat_en[\"osl_id\"].items(), start=1)}\n",
    "catid2cat_no = {v: cat_no[\"category_no\"][k] for idx, (k, v) in enumerate(cat_no[\"osl_id\"].items(), start=1)}"
   ]
  },
  {
   "cell_type": "code",
   "execution_count": null,
   "id": "1818d75f-6141-4558-99b2-82cfc8cf9886",
   "metadata": {},
   "outputs": [],
   "source": [
    "# only 1 category per apperantly "
   ]
  },
  {
   "cell_type": "code",
   "execution_count": 214,
   "id": "e47a85b1-ed95-4cd5-8eea-f45c45a7c877",
   "metadata": {},
   "outputs": [],
   "source": [
    "msg_w_hist[\"cat_id\"] = msg_w_hist[\"category\"].str.strip(\"[]\").apply(eval).str[\"id\"]#.count(\"id\").#.apply(ast.literal_eval).str.count()#.len().describe()#.apply(ast.literal_eval)#.explode()\n"
   ]
  },
  {
   "cell_type": "code",
   "execution_count": 262,
   "id": "d6233d93-ba2e-41de-83db-f7974614e5ff",
   "metadata": {},
   "outputs": [
    {
     "data": {
      "text/plain": [
       "1939"
      ]
     },
     "execution_count": 262,
     "metadata": {},
     "output_type": "execute_result"
    }
   ],
   "source": [
    "import gc\n",
    "gc.collect()"
   ]
  },
  {
   "cell_type": "code",
   "execution_count": 10,
   "id": "24869802-4a2f-4692-811c-74f0d41ce91e",
   "metadata": {},
   "outputs": [],
   "source": [
    "msg_labeled = msg_w_hist.assign(is_positive=(msg_w_hist[\"intra_day_open_close_pct\"] > msg_w_hist[\"ewm_std_3\"].div(msg_w_hist[\"ewm_3\"])*100).astype(int).replace({0: np.nan, 1: \"POSITIVE\"}),\n",
    "                                is_negative=(msg_w_hist[\"intra_day_open_close_pct\"] < msg_w_hist[\"ewm_std_3\"].div(msg_w_hist[\"ewm_3\"])*100).astype(int).replace({0: np.nan, 1: \"NEGATIVE\"})\n",
    "                               )"
   ]
  },
  {
   "cell_type": "code",
   "execution_count": 12,
   "id": "6cbe0fd7-1443-4cf0-a5da-df023ace4abc",
   "metadata": {},
   "outputs": [
    {
     "data": {
      "text/html": [
       "<div>\n",
       "<style scoped>\n",
       "    .dataframe tbody tr th:only-of-type {\n",
       "        vertical-align: middle;\n",
       "    }\n",
       "\n",
       "    .dataframe tbody tr th {\n",
       "        vertical-align: top;\n",
       "    }\n",
       "\n",
       "    .dataframe thead th {\n",
       "        text-align: right;\n",
       "    }\n",
       "</style>\n",
       "<table border=\"1\" class=\"dataframe\">\n",
       "  <thead>\n",
       "    <tr style=\"text-align: right;\">\n",
       "      <th></th>\n",
       "      <th>id</th>\n",
       "      <th>messageId</th>\n",
       "      <th>newsId</th>\n",
       "      <th>title</th>\n",
       "      <th>body</th>\n",
       "      <th>category</th>\n",
       "      <th>markets</th>\n",
       "      <th>issuerId</th>\n",
       "      <th>correctionForMessageId</th>\n",
       "      <th>correctedByMessageId</th>\n",
       "      <th>...</th>\n",
       "      <th>dol_vol_ewm_std_7</th>\n",
       "      <th>dol_vol_ewm_std_15</th>\n",
       "      <th>dol_vol_ewm_std_30</th>\n",
       "      <th>d3_avg_pct</th>\n",
       "      <th>d7_avg_pct</th>\n",
       "      <th>d15_avg_pct</th>\n",
       "      <th>d30_avg_pct</th>\n",
       "      <th>is_positive</th>\n",
       "      <th>is_negative</th>\n",
       "      <th>label</th>\n",
       "    </tr>\n",
       "  </thead>\n",
       "  <tbody>\n",
       "    <tr>\n",
       "      <th>30</th>\n",
       "      <td>440750</td>\n",
       "      <td>440750</td>\n",
       "      <td>391579</td>\n",
       "      <td>Statoil ASA: Completion of share capital incre...</td>\n",
       "      <td>Reference is made to the previous announcement...</td>\n",
       "      <td>[{'id': 1008, 'category_no': 'KAPITAL- OG STEM...</td>\n",
       "      <td>['XOSL']</td>\n",
       "      <td>1309</td>\n",
       "      <td>0</td>\n",
       "      <td>0</td>\n",
       "      <td>...</td>\n",
       "      <td>802249.9011112965</td>\n",
       "      <td>906536.1954811086</td>\n",
       "      <td>951094.1565136382</td>\n",
       "      <td>0.5927682276229973</td>\n",
       "      <td>0.473653049141487</td>\n",
       "      <td>2.044497895369801</td>\n",
       "      <td>2.5377643504531644</td>\n",
       "      <td>nan</td>\n",
       "      <td>NEGATIVE</td>\n",
       "      <td>NEGATIVE</td>\n",
       "    </tr>\n",
       "    <tr>\n",
       "      <th>31</th>\n",
       "      <td>440720</td>\n",
       "      <td>440720</td>\n",
       "      <td>391549</td>\n",
       "      <td>Statoil ASA: Allocation of Dividend Shares to ...</td>\n",
       "      <td>Reference is made to the announcement by Stato...</td>\n",
       "      <td>[{'id': 1008, 'category_no': 'KAPITAL- OG STEM...</td>\n",
       "      <td>['XOSL']</td>\n",
       "      <td>1309</td>\n",
       "      <td>0</td>\n",
       "      <td>0</td>\n",
       "      <td>...</td>\n",
       "      <td>802249.9011112965</td>\n",
       "      <td>906536.1954811086</td>\n",
       "      <td>951094.1565136382</td>\n",
       "      <td>0.5927682276229973</td>\n",
       "      <td>0.473653049141487</td>\n",
       "      <td>2.044497895369801</td>\n",
       "      <td>2.5377643504531644</td>\n",
       "      <td>nan</td>\n",
       "      <td>NEGATIVE</td>\n",
       "      <td>NEGATIVE</td>\n",
       "    </tr>\n",
       "    <tr>\n",
       "      <th>32</th>\n",
       "      <td>440749</td>\n",
       "      <td>440749</td>\n",
       "      <td>391578</td>\n",
       "      <td>Statoil ASA: Gjennomføring av kapitalforhøyels...</td>\n",
       "      <td>Det vises til tidligere meldinger fra Statoil ...</td>\n",
       "      <td>[{'id': 1008, 'category_no': 'KAPITAL- OG STEM...</td>\n",
       "      <td>['XOSL']</td>\n",
       "      <td>1309</td>\n",
       "      <td>0</td>\n",
       "      <td>0</td>\n",
       "      <td>...</td>\n",
       "      <td>802249.9011112965</td>\n",
       "      <td>906536.1954811086</td>\n",
       "      <td>951094.1565136382</td>\n",
       "      <td>0.5927682276229973</td>\n",
       "      <td>0.473653049141487</td>\n",
       "      <td>2.044497895369801</td>\n",
       "      <td>2.5377643504531644</td>\n",
       "      <td>nan</td>\n",
       "      <td>NEGATIVE</td>\n",
       "      <td>NEGATIVE</td>\n",
       "    </tr>\n",
       "    <tr>\n",
       "      <th>33</th>\n",
       "      <td>440719</td>\n",
       "      <td>440719</td>\n",
       "      <td>391548</td>\n",
       "      <td>Statoil ASA:  Tildeling av Utbytteaksjer til p...</td>\n",
       "      <td>Det vises til meldingen fra Statoil ASA (\"Sels...</td>\n",
       "      <td>[{'id': 1008, 'category_no': 'KAPITAL- OG STEM...</td>\n",
       "      <td>['XOSL']</td>\n",
       "      <td>1309</td>\n",
       "      <td>0</td>\n",
       "      <td>0</td>\n",
       "      <td>...</td>\n",
       "      <td>802249.9011112965</td>\n",
       "      <td>906536.1954811086</td>\n",
       "      <td>951094.1565136382</td>\n",
       "      <td>0.5927682276229973</td>\n",
       "      <td>0.473653049141487</td>\n",
       "      <td>2.044497895369801</td>\n",
       "      <td>2.5377643504531644</td>\n",
       "      <td>nan</td>\n",
       "      <td>NEGATIVE</td>\n",
       "      <td>NEGATIVE</td>\n",
       "    </tr>\n",
       "    <tr>\n",
       "      <th>34</th>\n",
       "      <td>440717</td>\n",
       "      <td>440717</td>\n",
       "      <td>391546</td>\n",
       "      <td>Statoil ASA: Result of the Dividend Issue for ...</td>\n",
       "      <td>Reference is made to the previous announcement...</td>\n",
       "      <td>[{'id': 1008, 'category_no': 'KAPITAL- OG STEM...</td>\n",
       "      <td>['XOSL']</td>\n",
       "      <td>1309</td>\n",
       "      <td>0</td>\n",
       "      <td>0</td>\n",
       "      <td>...</td>\n",
       "      <td>802249.9011112965</td>\n",
       "      <td>906536.1954811086</td>\n",
       "      <td>951094.1565136382</td>\n",
       "      <td>0.5927682276229973</td>\n",
       "      <td>0.473653049141487</td>\n",
       "      <td>2.044497895369801</td>\n",
       "      <td>2.5377643504531644</td>\n",
       "      <td>nan</td>\n",
       "      <td>NEGATIVE</td>\n",
       "      <td>NEGATIVE</td>\n",
       "    </tr>\n",
       "    <tr>\n",
       "      <th>...</th>\n",
       "      <td>...</td>\n",
       "      <td>...</td>\n",
       "      <td>...</td>\n",
       "      <td>...</td>\n",
       "      <td>...</td>\n",
       "      <td>...</td>\n",
       "      <td>...</td>\n",
       "      <td>...</td>\n",
       "      <td>...</td>\n",
       "      <td>...</td>\n",
       "      <td>...</td>\n",
       "      <td>...</td>\n",
       "      <td>...</td>\n",
       "      <td>...</td>\n",
       "      <td>...</td>\n",
       "      <td>...</td>\n",
       "      <td>...</td>\n",
       "      <td>...</td>\n",
       "      <td>...</td>\n",
       "      <td>...</td>\n",
       "      <td>...</td>\n",
       "    </tr>\n",
       "    <tr>\n",
       "      <th>459989</th>\n",
       "      <td>514900</td>\n",
       "      <td>514900</td>\n",
       "      <td>466097</td>\n",
       "      <td>Prospekt / opptaksdokument</td>\n",
       "      <td>Admission to trading of shares on Merkur Market</td>\n",
       "      <td>[{'id': 1103, 'category_no': 'PROSPEKT / OPPTA...</td>\n",
       "      <td>['MERK']</td>\n",
       "      <td>12803</td>\n",
       "      <td>0</td>\n",
       "      <td>0</td>\n",
       "      <td>...</td>\n",
       "      <td>nan</td>\n",
       "      <td>nan</td>\n",
       "      <td>nan</td>\n",
       "      <td>nan</td>\n",
       "      <td>nan</td>\n",
       "      <td>nan</td>\n",
       "      <td>nan</td>\n",
       "      <td>nan</td>\n",
       "      <td>nan</td>\n",
       "      <td>NEUTRAL</td>\n",
       "    </tr>\n",
       "    <tr>\n",
       "      <th>459976</th>\n",
       "      <td>519774</td>\n",
       "      <td>519774</td>\n",
       "      <td>471029</td>\n",
       "      <td>Endret salgsprognose 2020</td>\n",
       "      <td>Det henvises til kvartalsrapport for Q3 2020, ...</td>\n",
       "      <td>[{'id': 1005, 'category_no': 'INNSIDEINFORMASJ...</td>\n",
       "      <td>['MERK']</td>\n",
       "      <td>12803</td>\n",
       "      <td>0</td>\n",
       "      <td>0</td>\n",
       "      <td>...</td>\n",
       "      <td>449083.09760016395</td>\n",
       "      <td>570728.8318264598</td>\n",
       "      <td>611956.1525625557</td>\n",
       "      <td>14.759999999999994</td>\n",
       "      <td>0.6666666666666821</td>\n",
       "      <td>48.652849740932645</td>\n",
       "      <td>112.5185185185185</td>\n",
       "      <td>nan</td>\n",
       "      <td>NEGATIVE</td>\n",
       "      <td>NEGATIVE</td>\n",
       "    </tr>\n",
       "    <tr>\n",
       "      <th>459985</th>\n",
       "      <td>519775</td>\n",
       "      <td>519775</td>\n",
       "      <td>471030</td>\n",
       "      <td>Changed sales forecast 2020</td>\n",
       "      <td>Reference is made to the quarterly report for ...</td>\n",
       "      <td>[{'id': 1005, 'category_no': 'INNSIDEINFORMASJ...</td>\n",
       "      <td>['MERK']</td>\n",
       "      <td>12803</td>\n",
       "      <td>0</td>\n",
       "      <td>0</td>\n",
       "      <td>...</td>\n",
       "      <td>449083.09760016395</td>\n",
       "      <td>570728.8318264598</td>\n",
       "      <td>611956.1525625557</td>\n",
       "      <td>14.759999999999994</td>\n",
       "      <td>0.6666666666666821</td>\n",
       "      <td>48.652849740932645</td>\n",
       "      <td>112.5185185185185</td>\n",
       "      <td>nan</td>\n",
       "      <td>NEGATIVE</td>\n",
       "      <td>NEGATIVE</td>\n",
       "    </tr>\n",
       "    <tr>\n",
       "      <th>459981</th>\n",
       "      <td>517567</td>\n",
       "      <td>517567</td>\n",
       "      <td>468798</td>\n",
       "      <td>Innkalling til ekstraordinær generalforsamling...</td>\n",
       "      <td>Se vedlagt innkalling.</td>\n",
       "      <td>[{'id': 1010, 'category_no': 'ANNEN INFORMASJO...</td>\n",
       "      <td>['MERK']</td>\n",
       "      <td>12803</td>\n",
       "      <td>0</td>\n",
       "      <td>0</td>\n",
       "      <td>...</td>\n",
       "      <td>231094.6378370625</td>\n",
       "      <td>388477.8734440484</td>\n",
       "      <td>585458.5438080725</td>\n",
       "      <td>12.857142857142856</td>\n",
       "      <td>18.796992481203013</td>\n",
       "      <td>5.898123324396787</td>\n",
       "      <td>nan</td>\n",
       "      <td>nan</td>\n",
       "      <td>NEGATIVE</td>\n",
       "      <td>NEGATIVE</td>\n",
       "    </tr>\n",
       "    <tr>\n",
       "      <th>459990</th>\n",
       "      <td>517967</td>\n",
       "      <td>517967</td>\n",
       "      <td>469181</td>\n",
       "      <td>ZAPTEC AS: Q3 2020 results</td>\n",
       "      <td>Q3 2020 Highlights\\n• Revenue growth continues...</td>\n",
       "      <td>[{'id': 1002, 'category_no': 'HALVÅRSRAPPORTER...</td>\n",
       "      <td>['MERK']</td>\n",
       "      <td>12803</td>\n",
       "      <td>0</td>\n",
       "      <td>0</td>\n",
       "      <td>...</td>\n",
       "      <td>175571.23925499324</td>\n",
       "      <td>325982.19904215046</td>\n",
       "      <td>520476.1579068129</td>\n",
       "      <td>14.050632911392391</td>\n",
       "      <td>31.054545454545448</td>\n",
       "      <td>26.990838618745606</td>\n",
       "      <td>nan</td>\n",
       "      <td>nan</td>\n",
       "      <td>NEGATIVE</td>\n",
       "      <td>NEGATIVE</td>\n",
       "    </tr>\n",
       "  </tbody>\n",
       "</table>\n",
       "<p>180199 rows × 73 columns</p>\n",
       "</div>"
      ],
      "text/plain": [
       "            id messageId  newsId  \\\n",
       "30      440750    440750  391579   \n",
       "31      440720    440720  391549   \n",
       "32      440749    440749  391578   \n",
       "33      440719    440719  391548   \n",
       "34      440717    440717  391546   \n",
       "...        ...       ...     ...   \n",
       "459989  514900    514900  466097   \n",
       "459976  519774    519774  471029   \n",
       "459985  519775    519775  471030   \n",
       "459981  517567    517567  468798   \n",
       "459990  517967    517967  469181   \n",
       "\n",
       "                                                    title  \\\n",
       "30      Statoil ASA: Completion of share capital incre...   \n",
       "31      Statoil ASA: Allocation of Dividend Shares to ...   \n",
       "32      Statoil ASA: Gjennomføring av kapitalforhøyels...   \n",
       "33      Statoil ASA:  Tildeling av Utbytteaksjer til p...   \n",
       "34      Statoil ASA: Result of the Dividend Issue for ...   \n",
       "...                                                   ...   \n",
       "459989                         Prospekt / opptaksdokument   \n",
       "459976                          Endret salgsprognose 2020   \n",
       "459985                        Changed sales forecast 2020   \n",
       "459981  Innkalling til ekstraordinær generalforsamling...   \n",
       "459990                         ZAPTEC AS: Q3 2020 results   \n",
       "\n",
       "                                                     body  \\\n",
       "30      Reference is made to the previous announcement...   \n",
       "31      Reference is made to the announcement by Stato...   \n",
       "32      Det vises til tidligere meldinger fra Statoil ...   \n",
       "33      Det vises til meldingen fra Statoil ASA (\"Sels...   \n",
       "34      Reference is made to the previous announcement...   \n",
       "...                                                   ...   \n",
       "459989    Admission to trading of shares on Merkur Market   \n",
       "459976  Det henvises til kvartalsrapport for Q3 2020, ...   \n",
       "459985  Reference is made to the quarterly report for ...   \n",
       "459981                             Se vedlagt innkalling.   \n",
       "459990  Q3 2020 Highlights\\n• Revenue growth continues...   \n",
       "\n",
       "                                                 category   markets issuerId  \\\n",
       "30      [{'id': 1008, 'category_no': 'KAPITAL- OG STEM...  ['XOSL']     1309   \n",
       "31      [{'id': 1008, 'category_no': 'KAPITAL- OG STEM...  ['XOSL']     1309   \n",
       "32      [{'id': 1008, 'category_no': 'KAPITAL- OG STEM...  ['XOSL']     1309   \n",
       "33      [{'id': 1008, 'category_no': 'KAPITAL- OG STEM...  ['XOSL']     1309   \n",
       "34      [{'id': 1008, 'category_no': 'KAPITAL- OG STEM...  ['XOSL']     1309   \n",
       "...                                                   ...       ...      ...   \n",
       "459989  [{'id': 1103, 'category_no': 'PROSPEKT / OPPTA...  ['MERK']    12803   \n",
       "459976  [{'id': 1005, 'category_no': 'INNSIDEINFORMASJ...  ['MERK']    12803   \n",
       "459985  [{'id': 1005, 'category_no': 'INNSIDEINFORMASJ...  ['MERK']    12803   \n",
       "459981  [{'id': 1010, 'category_no': 'ANNEN INFORMASJO...  ['MERK']    12803   \n",
       "459990  [{'id': 1002, 'category_no': 'HALVÅRSRAPPORTER...  ['MERK']    12803   \n",
       "\n",
       "       correctionForMessageId correctedByMessageId  ...   dol_vol_ewm_std_7  \\\n",
       "30                          0                    0  ...   802249.9011112965   \n",
       "31                          0                    0  ...   802249.9011112965   \n",
       "32                          0                    0  ...   802249.9011112965   \n",
       "33                          0                    0  ...   802249.9011112965   \n",
       "34                          0                    0  ...   802249.9011112965   \n",
       "...                       ...                  ...  ...                 ...   \n",
       "459989                      0                    0  ...                 nan   \n",
       "459976                      0                    0  ...  449083.09760016395   \n",
       "459985                      0                    0  ...  449083.09760016395   \n",
       "459981                      0                    0  ...   231094.6378370625   \n",
       "459990                      0                    0  ...  175571.23925499324   \n",
       "\n",
       "        dol_vol_ewm_std_15 dol_vol_ewm_std_30          d3_avg_pct  \\\n",
       "30       906536.1954811086  951094.1565136382  0.5927682276229973   \n",
       "31       906536.1954811086  951094.1565136382  0.5927682276229973   \n",
       "32       906536.1954811086  951094.1565136382  0.5927682276229973   \n",
       "33       906536.1954811086  951094.1565136382  0.5927682276229973   \n",
       "34       906536.1954811086  951094.1565136382  0.5927682276229973   \n",
       "...                    ...                ...                 ...   \n",
       "459989                 nan                nan                 nan   \n",
       "459976   570728.8318264598  611956.1525625557  14.759999999999994   \n",
       "459985   570728.8318264598  611956.1525625557  14.759999999999994   \n",
       "459981   388477.8734440484  585458.5438080725  12.857142857142856   \n",
       "459990  325982.19904215046  520476.1579068129  14.050632911392391   \n",
       "\n",
       "                d7_avg_pct         d15_avg_pct         d30_avg_pct  \\\n",
       "30       0.473653049141487   2.044497895369801  2.5377643504531644   \n",
       "31       0.473653049141487   2.044497895369801  2.5377643504531644   \n",
       "32       0.473653049141487   2.044497895369801  2.5377643504531644   \n",
       "33       0.473653049141487   2.044497895369801  2.5377643504531644   \n",
       "34       0.473653049141487   2.044497895369801  2.5377643504531644   \n",
       "...                    ...                 ...                 ...   \n",
       "459989                 nan                 nan                 nan   \n",
       "459976  0.6666666666666821  48.652849740932645   112.5185185185185   \n",
       "459985  0.6666666666666821  48.652849740932645   112.5185185185185   \n",
       "459981  18.796992481203013   5.898123324396787                 nan   \n",
       "459990  31.054545454545448  26.990838618745606                 nan   \n",
       "\n",
       "       is_positive is_negative     label  \n",
       "30             nan    NEGATIVE  NEGATIVE  \n",
       "31             nan    NEGATIVE  NEGATIVE  \n",
       "32             nan    NEGATIVE  NEGATIVE  \n",
       "33             nan    NEGATIVE  NEGATIVE  \n",
       "34             nan    NEGATIVE  NEGATIVE  \n",
       "...            ...         ...       ...  \n",
       "459989         nan         nan   NEUTRAL  \n",
       "459976         nan    NEGATIVE  NEGATIVE  \n",
       "459985         nan    NEGATIVE  NEGATIVE  \n",
       "459981         nan    NEGATIVE  NEGATIVE  \n",
       "459990         nan    NEGATIVE  NEGATIVE  \n",
       "\n",
       "[180199 rows x 73 columns]"
      ]
     },
     "execution_count": 12,
     "metadata": {},
     "output_type": "execute_result"
    }
   ],
   "source": [
    "msg_labeled[\"label\"] = np.nan\n",
    "msg_labeled = msg_labeled.assign(label=msg_labeled[\"label\"].fillna(msg_labeled[\"is_positive\"]).fillna(msg_labeled[\"is_negative\"]).fillna(\"NEUTRAL\")).astype(str)\n",
    "msg_labeled"
   ]
  },
  {
   "cell_type": "code",
   "execution_count": 232,
   "id": "a17574a1-9e92-4a79-92c6-2a389ef4ebb9",
   "metadata": {},
   "outputs": [
    {
     "data": {
      "text/plain": [
       "73093"
      ]
     },
     "execution_count": 232,
     "metadata": {},
     "output_type": "execute_result"
    }
   ],
   "source": [
    "(abs(subset[\"intra_day_open_close_pct\"]) > subset[\"ewm_std_3\"].div(subset[\"ewm_3\"])*100).sum()"
   ]
  },
  {
   "cell_type": "code",
   "execution_count": 13,
   "id": "fa31ba18-4ac5-47cf-846a-5d58cd323e6c",
   "metadata": {},
   "outputs": [],
   "source": [
    "msg_labeled.to_parquet(data_path / \"stock_msg_labeled_all.parquet\")"
   ]
  },
  {
   "cell_type": "code",
   "execution_count": 14,
   "id": "1bd823f3-16b9-44c9-844e-02a17bdd65bf",
   "metadata": {},
   "outputs": [
    {
     "data": {
      "text/plain": [
       "Index(['id', 'messageId', 'newsId', 'title', 'body', 'category', 'markets',\n",
       "       'issuerId', 'correctionForMessageId', 'correctedByMessageId',\n",
       "       'issuerSign_x', 'issuerName', 'instrId', 'instrumentName',\n",
       "       'instrumentFullName', 'publishedTime', 'test', 'numbAttachments',\n",
       "       'attachments', 'clientAnnouncementId', 'infoRequired', 'oamMandatory',\n",
       "       'title_clean', 'title_lang', 'title_lang_score', 'paragraphs',\n",
       "       'par_len', 'par_label', 'par_label_score', 'weighted_scores',\n",
       "       'weighted_label', 'weighted_label_conf', 'n_paragraphs', 'osl_id',\n",
       "       'symbol', 'issuerSign_y', 'name', 'isActive', 'publishedTime_dt',\n",
       "       'is_next_day', 'next_day', 'close', 'open', 'high', 'low', 'volume',\n",
       "       'dol_volume', 'intra_day_high_low_pct', 'intra_day_open_close_pct',\n",
       "       'gap_pct', 'ewm_3', 'ewm_7', 'ewm_15', 'ewm_30', 'ewm_std_3',\n",
       "       'ewm_std_7', 'ewm_std_15', 'ewm_std_30', 'dol_vol_ewm_3',\n",
       "       'dol_vol_ewm_7', 'dol_vol_ewm_15', 'dol_vol_ewm_30',\n",
       "       'dol_vol_ewm_std_3', 'dol_vol_ewm_std_7', 'dol_vol_ewm_std_15',\n",
       "       'dol_vol_ewm_std_30', 'd3_avg_pct', 'd7_avg_pct', 'd15_avg_pct',\n",
       "       'd30_avg_pct', 'is_positive', 'is_negative', 'label'],\n",
       "      dtype='object')"
      ]
     },
     "execution_count": 14,
     "metadata": {},
     "output_type": "execute_result"
    }
   ],
   "source": [
    "msg_labeled.columns"
   ]
  },
  {
   "cell_type": "code",
   "execution_count": 15,
   "id": "d472ec8b-992e-461c-9aad-75d5630b48e1",
   "metadata": {},
   "outputs": [],
   "source": [
    "msg_labeled[[\"id\", \"body\", \"label\", \"title\", \"symbol\", \"category\", \"weighted_label\", \"weighted_label_conf\"]].to_parquet(data_path / \"stock_msg_labelled_subset.parquet\")"
   ]
  },
  {
   "cell_type": "code",
   "execution_count": null,
   "id": "f086e0de-26ad-431c-a2ba-b9dfcdd4b37a",
   "metadata": {},
   "outputs": [],
   "source": []
  }
 ],
 "metadata": {
  "kernelspec": {
   "display_name": "Python 3 (ipykernel)",
   "language": "python",
   "name": "python3"
  },
  "language_info": {
   "codemirror_mode": {
    "name": "ipython",
    "version": 3
   },
   "file_extension": ".py",
   "mimetype": "text/x-python",
   "name": "python",
   "nbconvert_exporter": "python",
   "pygments_lexer": "ipython3",
   "version": "3.9.5"
  }
 },
 "nbformat": 4,
 "nbformat_minor": 5
}
